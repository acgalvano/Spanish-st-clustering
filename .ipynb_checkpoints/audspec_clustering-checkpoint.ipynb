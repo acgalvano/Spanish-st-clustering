{
 "cells": [
  {
   "cell_type": "markdown",
   "id": "3cd26b96",
   "metadata": {},
   "source": [
    "## Load and view cached auditory spectrograms\n",
    "\n",
    "Demonstration of how to load a cached auditory spectrogram, select data from it, and view the results."
   ]
  },
  {
   "cell_type": "code",
   "execution_count": 153,
   "id": "09744b02",
   "metadata": {},
   "outputs": [],
   "source": [
    "import numpy as np\n",
    "import pandas as pd\n",
    "from pathlib import Path\n",
    "import matplotlib.pyplot as plt\n",
    "from audiolabel import read_label"
   ]
  },
  {
   "cell_type": "markdown",
   "id": "d646b95f",
   "metadata": {},
   "source": [
    "## Customize\n",
    "\n",
    "Provide (1) the path to the textgrid folder; (2) the file to work on (without a filename extension); and (3) the number of spectral slices to pull from each token, centered on the token midpoint."
   ]
  },
  {
   "cell_type": "code",
   "execution_count": 92,
   "id": "87c28619",
   "metadata": {},
   "outputs": [],
   "source": [
    "tgdir = Path('/Users/ambergalvano/Desktop/hard-drive_copy/Python/Python_things_2_16_23/AN_files_3_14')\n",
    "tgname = 'AN_F1_AC'   # Name of file to inspect (without extension).\n",
    "num_slice = 21         # Number of spectral slices to use per token (must be odd)\n",
    "assert(num_slice % 2 == 1) # check number of slices is odd (should be centered on midpoint)"
   ]
  },
  {
   "cell_type": "markdown",
   "id": "d4382519",
   "metadata": {},
   "source": [
    "Show the path to the auditory spectrogram file."
   ]
  },
  {
   "cell_type": "code",
   "execution_count": 93,
   "id": "fae9c85a",
   "metadata": {},
   "outputs": [
    {
     "data": {
      "text/plain": [
       "PosixPath('/Users/ambergalvano/Desktop/hard-drive_copy/Python/Python_things_2_16_23/AN_files_3_14/audspec_3_14/AN_F1_AC.audspec.npz')"
      ]
     },
     "execution_count": 93,
     "metadata": {},
     "output_type": "execute_result"
    }
   ],
   "source": [
    "audspecdir = tgdir / 'audspec_3_14'\n",
    "audspfile = audspecdir / f'{tgname}.audspec.npz'\n",
    "audspfile"
   ]
  },
  {
   "cell_type": "markdown",
   "id": "1e2d7346",
   "metadata": {},
   "source": [
    "## Load textgrid data\n",
    "\n",
    "Read the tiers from the target file and show the tier containing the token productions. Calculate the midpoint of each token and add it as a new column."
   ]
  },
  {
   "cell_type": "code",
   "execution_count": 94,
   "id": "00a665b6",
   "metadata": {},
   "outputs": [
    {
     "data": {
      "text/html": [
       "<div>\n",
       "<style scoped>\n",
       "    .dataframe tbody tr th:only-of-type {\n",
       "        vertical-align: middle;\n",
       "    }\n",
       "\n",
       "    .dataframe tbody tr th {\n",
       "        vertical-align: top;\n",
       "    }\n",
       "\n",
       "    .dataframe thead th {\n",
       "        text-align: right;\n",
       "    }\n",
       "</style>\n",
       "<table border=\"1\" class=\"dataframe\">\n",
       "  <thead>\n",
       "    <tr style=\"text-align: right;\">\n",
       "      <th></th>\n",
       "      <th>t1</th>\n",
       "      <th>t2</th>\n",
       "      <th>label</th>\n",
       "      <th>fname</th>\n",
       "      <th>midpt</th>\n",
       "    </tr>\n",
       "  </thead>\n",
       "  <tbody>\n",
       "    <tr>\n",
       "      <th>0</th>\n",
       "      <td>0.000000</td>\n",
       "      <td>2.939262</td>\n",
       "      <td></td>\n",
       "      <td>/Users/ambergalvano/Desktop/hard-drive_copy/Py...</td>\n",
       "      <td>1.469631</td>\n",
       "    </tr>\n",
       "    <tr>\n",
       "      <th>1</th>\n",
       "      <td>2.939262</td>\n",
       "      <td>3.085101</td>\n",
       "      <td>ts</td>\n",
       "      <td>/Users/ambergalvano/Desktop/hard-drive_copy/Py...</td>\n",
       "      <td>3.012181</td>\n",
       "    </tr>\n",
       "    <tr>\n",
       "      <th>2</th>\n",
       "      <td>3.085101</td>\n",
       "      <td>23.764902</td>\n",
       "      <td></td>\n",
       "      <td>/Users/ambergalvano/Desktop/hard-drive_copy/Py...</td>\n",
       "      <td>13.425002</td>\n",
       "    </tr>\n",
       "    <tr>\n",
       "      <th>3</th>\n",
       "      <td>23.764902</td>\n",
       "      <td>23.896813</td>\n",
       "      <td>ts</td>\n",
       "      <td>/Users/ambergalvano/Desktop/hard-drive_copy/Py...</td>\n",
       "      <td>23.830858</td>\n",
       "    </tr>\n",
       "    <tr>\n",
       "      <th>4</th>\n",
       "      <td>23.896813</td>\n",
       "      <td>31.211079</td>\n",
       "      <td></td>\n",
       "      <td>/Users/ambergalvano/Desktop/hard-drive_copy/Py...</td>\n",
       "      <td>27.553946</td>\n",
       "    </tr>\n",
       "    <tr>\n",
       "      <th>...</th>\n",
       "      <td>...</td>\n",
       "      <td>...</td>\n",
       "      <td>...</td>\n",
       "      <td>...</td>\n",
       "      <td>...</td>\n",
       "    </tr>\n",
       "    <tr>\n",
       "      <th>118</th>\n",
       "      <td>1362.167064</td>\n",
       "      <td>1442.707970</td>\n",
       "      <td></td>\n",
       "      <td>/Users/ambergalvano/Desktop/hard-drive_copy/Py...</td>\n",
       "      <td>1402.437517</td>\n",
       "    </tr>\n",
       "    <tr>\n",
       "      <th>119</th>\n",
       "      <td>1442.707970</td>\n",
       "      <td>1442.821161</td>\n",
       "      <td>ts</td>\n",
       "      <td>/Users/ambergalvano/Desktop/hard-drive_copy/Py...</td>\n",
       "      <td>1442.764566</td>\n",
       "    </tr>\n",
       "    <tr>\n",
       "      <th>120</th>\n",
       "      <td>1442.821161</td>\n",
       "      <td>1509.650316</td>\n",
       "      <td></td>\n",
       "      <td>/Users/ambergalvano/Desktop/hard-drive_copy/Py...</td>\n",
       "      <td>1476.235739</td>\n",
       "    </tr>\n",
       "    <tr>\n",
       "      <th>121</th>\n",
       "      <td>1509.650316</td>\n",
       "      <td>1509.751196</td>\n",
       "      <td>ts</td>\n",
       "      <td>/Users/ambergalvano/Desktop/hard-drive_copy/Py...</td>\n",
       "      <td>1509.700756</td>\n",
       "    </tr>\n",
       "    <tr>\n",
       "      <th>122</th>\n",
       "      <td>1509.751196</td>\n",
       "      <td>1553.030000</td>\n",
       "      <td></td>\n",
       "      <td>/Users/ambergalvano/Desktop/hard-drive_copy/Py...</td>\n",
       "      <td>1531.390598</td>\n",
       "    </tr>\n",
       "  </tbody>\n",
       "</table>\n",
       "<p>123 rows × 5 columns</p>\n",
       "</div>"
      ],
      "text/plain": [
       "              t1           t2 label  \\\n",
       "0       0.000000     2.939262         \n",
       "1       2.939262     3.085101    ts   \n",
       "2       3.085101    23.764902         \n",
       "3      23.764902    23.896813    ts   \n",
       "4      23.896813    31.211079         \n",
       "..           ...          ...   ...   \n",
       "118  1362.167064  1442.707970         \n",
       "119  1442.707970  1442.821161    ts   \n",
       "120  1442.821161  1509.650316         \n",
       "121  1509.650316  1509.751196    ts   \n",
       "122  1509.751196  1553.030000         \n",
       "\n",
       "                                                 fname        midpt  \n",
       "0    /Users/ambergalvano/Desktop/hard-drive_copy/Py...     1.469631  \n",
       "1    /Users/ambergalvano/Desktop/hard-drive_copy/Py...     3.012181  \n",
       "2    /Users/ambergalvano/Desktop/hard-drive_copy/Py...    13.425002  \n",
       "3    /Users/ambergalvano/Desktop/hard-drive_copy/Py...    23.830858  \n",
       "4    /Users/ambergalvano/Desktop/hard-drive_copy/Py...    27.553946  \n",
       "..                                                 ...          ...  \n",
       "118  /Users/ambergalvano/Desktop/hard-drive_copy/Py...  1402.437517  \n",
       "119  /Users/ambergalvano/Desktop/hard-drive_copy/Py...  1442.764566  \n",
       "120  /Users/ambergalvano/Desktop/hard-drive_copy/Py...  1476.235739  \n",
       "121  /Users/ambergalvano/Desktop/hard-drive_copy/Py...  1509.700756  \n",
       "122  /Users/ambergalvano/Desktop/hard-drive_copy/Py...  1531.390598  \n",
       "\n",
       "[123 rows x 5 columns]"
      ]
     },
     "execution_count": 94,
     "metadata": {},
     "output_type": "execute_result"
    }
   ],
   "source": [
    "[phdf, wddf, proddf] = read_label(str(tgdir / f'{tgname}.TextGrid'), ftype='praat')\n",
    "proddf['midpt'] = proddf.loc[:, ['t1', 't2']].mean(axis='columns')\n",
    "proddf"
   ]
  },
  {
   "cell_type": "markdown",
   "id": "0cf585d9",
   "metadata": {},
   "source": [
    "## Load cached auditory spectrogram data\n",
    "\n",
    "Create and show the filename of the cached auditory spectrogram."
   ]
  },
  {
   "cell_type": "code",
   "execution_count": 95,
   "id": "be076421",
   "metadata": {
    "scrolled": true
   },
   "outputs": [
    {
     "data": {
      "text/plain": [
       "PosixPath('/Users/ambergalvano/Desktop/hard-drive_copy/Python/Python_things_2_16_23/AN_files_3_14/audspec_3_14/AN_F1_AC.audspec.npz')"
      ]
     },
     "execution_count": 95,
     "metadata": {},
     "output_type": "execute_result"
    }
   ],
   "source": [
    "audspfile = tgdir / 'audspec_3_14' / f'{tgname}.audspec.npz'\n",
    "audspfile"
   ]
  },
  {
   "cell_type": "markdown",
   "id": "72bb7cc2",
   "metadata": {},
   "source": [
    "Load the auditory spectrogram data in `mmap` mode, which is fast because it does not load all of the data into memory immediately.\n",
    "\n",
    "The properties of the `AudSpec` object are stored in the `.npz` archive as different files. The following lists their names."
   ]
  },
  {
   "cell_type": "code",
   "execution_count": 96,
   "id": "3232e9af",
   "metadata": {},
   "outputs": [
    {
     "name": "stdout",
     "output_type": "stream",
     "text": [
      "fs\n",
      "dft_n\n",
      "spect\n",
      "spect_times\n",
      "inc\n",
      "topbark\n",
      "ncoef\n",
      "zinc\n",
      "fft_freqs\n",
      "zfreqs\n",
      "freqs\n",
      "step_size\n",
      "maxcbfiltn\n",
      "cbfiltn\n",
      "cbfilts\n",
      "window\n",
      "loud\n",
      "zgram\n",
      "igram\n",
      "lgram\n",
      "ogram\n",
      "foo\n",
      "custom_vars\n"
     ]
    }
   ],
   "source": [
    "d = np.load(audspfile, mmap_mode='r')\n",
    "for k in d.files:\n",
    "    print(k)"
   ]
  },
  {
   "cell_type": "markdown",
   "id": "7cc0e926",
   "metadata": {},
   "source": [
    "You access any of the values in the `.npz` file as if it were a dictionary. Here the `AudSpec` object's `fs` attribute is accessed via the corresponding key."
   ]
  },
  {
   "cell_type": "code",
   "execution_count": 97,
   "id": "a07a5832",
   "metadata": {},
   "outputs": [
    {
     "data": {
      "text/plain": [
       "array(22050., dtype=float32)"
      ]
     },
     "execution_count": 97,
     "metadata": {},
     "output_type": "execute_result"
    }
   ],
   "source": [
    "d['fs'] # sampling frequency"
   ]
  },
  {
   "cell_type": "markdown",
   "id": "f7f05493",
   "metadata": {},
   "source": [
    "The `custom_vars` value contains the names of the additional variables that were cached with the `AudSpec` object."
   ]
  },
  {
   "cell_type": "code",
   "execution_count": 98,
   "id": "efbba82f",
   "metadata": {},
   "outputs": [
    {
     "data": {
      "text/plain": [
       "array(['igram', 'lgram', 'ogram', 'foo'], dtype='<U5')"
      ]
     },
     "execution_count": 98,
     "metadata": {},
     "output_type": "execute_result"
    }
   ],
   "source": [
    "d['custom_vars'] # different types of spectrogram reps"
   ]
  },
  {
   "cell_type": "markdown",
   "id": "6de693f6",
   "metadata": {},
   "source": [
    "The auditory spectrogram is the `zgram` property, with dimensions (time, frequency)."
   ]
  },
  {
   "cell_type": "code",
   "execution_count": 99,
   "id": "885eb817",
   "metadata": {},
   "outputs": [
    {
     "data": {
      "text/plain": [
       "(311312, 86)"
      ]
     },
     "execution_count": 99,
     "metadata": {},
     "output_type": "execute_result"
    }
   ],
   "source": [
    "d['zgram'].shape"
   ]
  },
  {
   "cell_type": "markdown",
   "id": "05ed9be0",
   "metadata": {},
   "source": [
    "The times for the spectral slices in the spectrogram are found in `spect_times`, which matches the  size of `zgrams`'s first dimension."
   ]
  },
  {
   "cell_type": "code",
   "execution_count": 100,
   "id": "725ef24c",
   "metadata": {},
   "outputs": [
    {
     "name": "stdout",
     "output_type": "stream",
     "text": [
      "311312\n"
     ]
    },
    {
     "data": {
      "text/plain": [
       "array([2.32199546e-02, 2.82086168e-02, 3.31972789e-02, ...,\n",
       "       1.55303864e+03, 1.55304363e+03, 1.55304862e+03])"
      ]
     },
     "execution_count": 100,
     "metadata": {},
     "output_type": "execute_result"
    }
   ],
   "source": [
    "print(len(d['spect_times']))\n",
    "d['spect_times']"
   ]
  },
  {
   "cell_type": "markdown",
   "id": "7510e1da",
   "metadata": {},
   "source": [
    "The frequency bins of the spectrogram are in `freqs` (Hz) and `zfreqs` (Bark). These match the size of `zgrams`'s second dimension."
   ]
  },
  {
   "cell_type": "code",
   "execution_count": 101,
   "id": "e923bbc5",
   "metadata": {},
   "outputs": [
    {
     "name": "stdout",
     "output_type": "stream",
     "text": [
      "86\n"
     ]
    },
    {
     "data": {
      "text/plain": [
       "array([   26.34313936,    52.72952987,    79.20249369,   105.80549512,\n",
       "         132.58221196,   159.57660722,   186.83300131,   214.39614479,\n",
       "         242.31129186,   270.62427466,   299.38157848,   328.63041816,\n",
       "         358.41881551,   388.79567826,   419.81088025,   451.51534341,\n",
       "         483.96112132,   517.20148465,   551.29100867,   586.28566285,\n",
       "         622.2429027 ,   659.22176417,   697.28296054,   736.48898208,\n",
       "         776.90419872,   818.59496566,   861.62973236,   906.07915491,\n",
       "         952.01621202,   999.51632488,  1048.65748093,  1099.52036197,\n",
       "        1152.18847656,  1206.74829719,  1263.28940221,  1321.9046229 ,\n",
       "        1382.69019593,  1445.74592132,  1511.17532631,  1579.08583533,\n",
       "        1649.58894641,  1722.80041417,  1798.84043994,  1877.83386907,\n",
       "        1959.91039591,  2045.20477677,  2133.85705115,  2226.01277167,\n",
       "        2321.82324301,  2421.4457704 ,  2525.0439178 ,  2632.78777653,\n",
       "        2744.85424447,  2861.42731654,  2982.69838675,  3108.86656246,\n",
       "        3240.13899131,  3376.73120125,  3518.86745449,  3666.78111561,\n",
       "        3820.7150348 ,  3980.9219465 ,  4147.66488439,  4321.21761327,\n",
       "        4501.86507846,  4689.90387373,  4885.64272818,  5089.40301317,\n",
       "        5301.51926993,  5522.33975886,  5752.22703126,  5991.55852465,\n",
       "        6240.7271824 ,  6500.14209891,  6770.22919126,  7051.43189853,\n",
       "        7344.21190981,  7649.04992226,  7966.44643028,  8296.92254733,\n",
       "        8641.0208614 ,  8999.30632597,  9372.36718747,  9760.81595114,\n",
       "       10165.29038666, 10586.45457525])"
      ]
     },
     "execution_count": 101,
     "metadata": {},
     "output_type": "execute_result"
    }
   ],
   "source": [
    "print(len(d['freqs']))\n",
    "d['freqs']"
   ]
  },
  {
   "cell_type": "markdown",
   "id": "dec16467",
   "metadata": {},
   "source": [
    "## Add indexes of midpoints\n",
    "\n",
    "For each `midpt` value in `proddf`, find the index of the closest time value in `d['spect_times']` and add it as a new column. "
   ]
  },
  {
   "cell_type": "code",
   "execution_count": 102,
   "id": "7f9fc924",
   "metadata": {},
   "outputs": [
    {
     "data": {
      "text/html": [
       "<div>\n",
       "<style scoped>\n",
       "    .dataframe tbody tr th:only-of-type {\n",
       "        vertical-align: middle;\n",
       "    }\n",
       "\n",
       "    .dataframe tbody tr th {\n",
       "        vertical-align: top;\n",
       "    }\n",
       "\n",
       "    .dataframe thead th {\n",
       "        text-align: right;\n",
       "    }\n",
       "</style>\n",
       "<table border=\"1\" class=\"dataframe\">\n",
       "  <thead>\n",
       "    <tr style=\"text-align: right;\">\n",
       "      <th></th>\n",
       "      <th>t1</th>\n",
       "      <th>t2</th>\n",
       "      <th>label</th>\n",
       "      <th>fname</th>\n",
       "      <th>midpt</th>\n",
       "      <th>midpt_idx</th>\n",
       "    </tr>\n",
       "  </thead>\n",
       "  <tbody>\n",
       "    <tr>\n",
       "      <th>0</th>\n",
       "      <td>0.000000</td>\n",
       "      <td>2.939262</td>\n",
       "      <td></td>\n",
       "      <td>/Users/ambergalvano/Desktop/hard-drive_copy/Py...</td>\n",
       "      <td>1.469631</td>\n",
       "      <td>290</td>\n",
       "    </tr>\n",
       "    <tr>\n",
       "      <th>1</th>\n",
       "      <td>2.939262</td>\n",
       "      <td>3.085101</td>\n",
       "      <td>ts</td>\n",
       "      <td>/Users/ambergalvano/Desktop/hard-drive_copy/Py...</td>\n",
       "      <td>3.012181</td>\n",
       "      <td>599</td>\n",
       "    </tr>\n",
       "    <tr>\n",
       "      <th>2</th>\n",
       "      <td>3.085101</td>\n",
       "      <td>23.764902</td>\n",
       "      <td></td>\n",
       "      <td>/Users/ambergalvano/Desktop/hard-drive_copy/Py...</td>\n",
       "      <td>13.425002</td>\n",
       "      <td>2686</td>\n",
       "    </tr>\n",
       "    <tr>\n",
       "      <th>3</th>\n",
       "      <td>23.764902</td>\n",
       "      <td>23.896813</td>\n",
       "      <td>ts</td>\n",
       "      <td>/Users/ambergalvano/Desktop/hard-drive_copy/Py...</td>\n",
       "      <td>23.830858</td>\n",
       "      <td>4772</td>\n",
       "    </tr>\n",
       "    <tr>\n",
       "      <th>4</th>\n",
       "      <td>23.896813</td>\n",
       "      <td>31.211079</td>\n",
       "      <td></td>\n",
       "      <td>/Users/ambergalvano/Desktop/hard-drive_copy/Py...</td>\n",
       "      <td>27.553946</td>\n",
       "      <td>5519</td>\n",
       "    </tr>\n",
       "    <tr>\n",
       "      <th>...</th>\n",
       "      <td>...</td>\n",
       "      <td>...</td>\n",
       "      <td>...</td>\n",
       "      <td>...</td>\n",
       "      <td>...</td>\n",
       "      <td>...</td>\n",
       "    </tr>\n",
       "    <tr>\n",
       "      <th>118</th>\n",
       "      <td>1362.167064</td>\n",
       "      <td>1442.707970</td>\n",
       "      <td></td>\n",
       "      <td>/Users/ambergalvano/Desktop/hard-drive_copy/Py...</td>\n",
       "      <td>1402.437517</td>\n",
       "      <td>281120</td>\n",
       "    </tr>\n",
       "    <tr>\n",
       "      <th>119</th>\n",
       "      <td>1442.707970</td>\n",
       "      <td>1442.821161</td>\n",
       "      <td>ts</td>\n",
       "      <td>/Users/ambergalvano/Desktop/hard-drive_copy/Py...</td>\n",
       "      <td>1442.764566</td>\n",
       "      <td>289204</td>\n",
       "    </tr>\n",
       "    <tr>\n",
       "      <th>120</th>\n",
       "      <td>1442.821161</td>\n",
       "      <td>1509.650316</td>\n",
       "      <td></td>\n",
       "      <td>/Users/ambergalvano/Desktop/hard-drive_copy/Py...</td>\n",
       "      <td>1476.235739</td>\n",
       "      <td>295914</td>\n",
       "    </tr>\n",
       "    <tr>\n",
       "      <th>121</th>\n",
       "      <td>1509.650316</td>\n",
       "      <td>1509.751196</td>\n",
       "      <td>ts</td>\n",
       "      <td>/Users/ambergalvano/Desktop/hard-drive_copy/Py...</td>\n",
       "      <td>1509.700756</td>\n",
       "      <td>302622</td>\n",
       "    </tr>\n",
       "    <tr>\n",
       "      <th>122</th>\n",
       "      <td>1509.751196</td>\n",
       "      <td>1553.030000</td>\n",
       "      <td></td>\n",
       "      <td>/Users/ambergalvano/Desktop/hard-drive_copy/Py...</td>\n",
       "      <td>1531.390598</td>\n",
       "      <td>306970</td>\n",
       "    </tr>\n",
       "  </tbody>\n",
       "</table>\n",
       "<p>123 rows × 6 columns</p>\n",
       "</div>"
      ],
      "text/plain": [
       "              t1           t2 label  \\\n",
       "0       0.000000     2.939262         \n",
       "1       2.939262     3.085101    ts   \n",
       "2       3.085101    23.764902         \n",
       "3      23.764902    23.896813    ts   \n",
       "4      23.896813    31.211079         \n",
       "..           ...          ...   ...   \n",
       "118  1362.167064  1442.707970         \n",
       "119  1442.707970  1442.821161    ts   \n",
       "120  1442.821161  1509.650316         \n",
       "121  1509.650316  1509.751196    ts   \n",
       "122  1509.751196  1553.030000         \n",
       "\n",
       "                                                 fname        midpt  midpt_idx  \n",
       "0    /Users/ambergalvano/Desktop/hard-drive_copy/Py...     1.469631        290  \n",
       "1    /Users/ambergalvano/Desktop/hard-drive_copy/Py...     3.012181        599  \n",
       "2    /Users/ambergalvano/Desktop/hard-drive_copy/Py...    13.425002       2686  \n",
       "3    /Users/ambergalvano/Desktop/hard-drive_copy/Py...    23.830858       4772  \n",
       "4    /Users/ambergalvano/Desktop/hard-drive_copy/Py...    27.553946       5519  \n",
       "..                                                 ...          ...        ...  \n",
       "118  /Users/ambergalvano/Desktop/hard-drive_copy/Py...  1402.437517     281120  \n",
       "119  /Users/ambergalvano/Desktop/hard-drive_copy/Py...  1442.764566     289204  \n",
       "120  /Users/ambergalvano/Desktop/hard-drive_copy/Py...  1476.235739     295914  \n",
       "121  /Users/ambergalvano/Desktop/hard-drive_copy/Py...  1509.700756     302622  \n",
       "122  /Users/ambergalvano/Desktop/hard-drive_copy/Py...  1531.390598     306970  \n",
       "\n",
       "[123 rows x 6 columns]"
      ]
     },
     "execution_count": 102,
     "metadata": {},
     "output_type": "execute_result"
    }
   ],
   "source": [
    "proddf['midpt_idx'] = [np.argmin(np.abs(d['spect_times'] - m)) for m in proddf['midpt']]\n",
    "proddf"
   ]
  },
  {
   "cell_type": "markdown",
   "id": "ba1c140d",
   "metadata": {},
   "source": [
    "(Another view of the result of the preceding step--if you use the `proddf['midpt_idx']` indexes on the `d['times']` array you get values that are very close to the midpoints shown in `proddf['midpt']`. The first five values are shown here.)"
   ]
  },
  {
   "cell_type": "code",
   "execution_count": 103,
   "id": "d5444ee2",
   "metadata": {},
   "outputs": [
    {
     "data": {
      "text/plain": [
       "array([  1.46993197,   3.01142857,  13.42276644,  23.82911565,\n",
       "        27.55564626,  31.27718821,  85.23455782, 139.1969161 ,\n",
       "       150.57106576, 161.95020408, 162.35428571])"
      ]
     },
     "execution_count": 103,
     "metadata": {},
     "output_type": "execute_result"
    }
   ],
   "source": [
    "d['spect_times'][proddf['midpt_idx']][:11] # these are the times of spectral slices"
   ]
  },
  {
   "cell_type": "markdown",
   "id": "d9ca506f",
   "metadata": {},
   "source": [
    "## Select data\n",
    "\n",
    "Next select data to be used as inputs to the Support Vector Machine functions.\n",
    "\n",
    "First, make a subset of `proddf` that holds tokens of interest. Shown here is a subset of non-empty tokens, sorted by label."
   ]
  },
  {
   "cell_type": "code",
   "execution_count": 104,
   "id": "4b34543b",
   "metadata": {},
   "outputs": [
    {
     "name": "stdout",
     "output_type": "stream",
     "text": [
      "number of tokens: 61\n"
     ]
    },
    {
     "data": {
      "text/html": [
       "<div>\n",
       "<style scoped>\n",
       "    .dataframe tbody tr th:only-of-type {\n",
       "        vertical-align: middle;\n",
       "    }\n",
       "\n",
       "    .dataframe tbody tr th {\n",
       "        vertical-align: top;\n",
       "    }\n",
       "\n",
       "    .dataframe thead th {\n",
       "        text-align: right;\n",
       "    }\n",
       "</style>\n",
       "<table border=\"1\" class=\"dataframe\">\n",
       "  <thead>\n",
       "    <tr style=\"text-align: right;\">\n",
       "      <th></th>\n",
       "      <th>t1</th>\n",
       "      <th>t2</th>\n",
       "      <th>label</th>\n",
       "      <th>fname</th>\n",
       "      <th>midpt</th>\n",
       "      <th>midpt_idx</th>\n",
       "    </tr>\n",
       "  </thead>\n",
       "  <tbody>\n",
       "    <tr>\n",
       "      <th>95</th>\n",
       "      <td>1232.133216</td>\n",
       "      <td>1232.249013</td>\n",
       "      <td>t</td>\n",
       "      <td>/Users/ambergalvano/Desktop/hard-drive_copy/Py...</td>\n",
       "      <td>1232.191115</td>\n",
       "      <td>246994</td>\n",
       "    </tr>\n",
       "    <tr>\n",
       "      <th>29</th>\n",
       "      <td>292.037226</td>\n",
       "      <td>292.143685</td>\n",
       "      <td>th</td>\n",
       "      <td>/Users/ambergalvano/Desktop/hard-drive_copy/Py...</td>\n",
       "      <td>292.090456</td>\n",
       "      <td>58546</td>\n",
       "    </tr>\n",
       "    <tr>\n",
       "      <th>79</th>\n",
       "      <td>1014.155777</td>\n",
       "      <td>1014.271695</td>\n",
       "      <td>th</td>\n",
       "      <td>/Users/ambergalvano/Desktop/hard-drive_copy/Py...</td>\n",
       "      <td>1014.213736</td>\n",
       "      <td>203299</td>\n",
       "    </tr>\n",
       "    <tr>\n",
       "      <th>77</th>\n",
       "      <td>1013.847449</td>\n",
       "      <td>1013.987454</td>\n",
       "      <td>th</td>\n",
       "      <td>/Users/ambergalvano/Desktop/hard-drive_copy/Py...</td>\n",
       "      <td>1013.917451</td>\n",
       "      <td>203240</td>\n",
       "    </tr>\n",
       "    <tr>\n",
       "      <th>75</th>\n",
       "      <td>1013.651247</td>\n",
       "      <td>1013.759419</td>\n",
       "      <td>th</td>\n",
       "      <td>/Users/ambergalvano/Desktop/hard-drive_copy/Py...</td>\n",
       "      <td>1013.705333</td>\n",
       "      <td>203197</td>\n",
       "    </tr>\n",
       "    <tr>\n",
       "      <th>...</th>\n",
       "      <td>...</td>\n",
       "      <td>...</td>\n",
       "      <td>...</td>\n",
       "      <td>...</td>\n",
       "      <td>...</td>\n",
       "      <td>...</td>\n",
       "    </tr>\n",
       "    <tr>\n",
       "      <th>55</th>\n",
       "      <td>772.236100</td>\n",
       "      <td>772.385477</td>\n",
       "      <td>ts</td>\n",
       "      <td>/Users/ambergalvano/Desktop/hard-drive_copy/Py...</td>\n",
       "      <td>772.310788</td>\n",
       "      <td>154809</td>\n",
       "    </tr>\n",
       "    <tr>\n",
       "      <th>57</th>\n",
       "      <td>773.497182</td>\n",
       "      <td>773.637170</td>\n",
       "      <td>ts</td>\n",
       "      <td>/Users/ambergalvano/Desktop/hard-drive_copy/Py...</td>\n",
       "      <td>773.567176</td>\n",
       "      <td>155060</td>\n",
       "    </tr>\n",
       "    <tr>\n",
       "      <th>31</th>\n",
       "      <td>294.202572</td>\n",
       "      <td>294.343472</td>\n",
       "      <td>ts</td>\n",
       "      <td>/Users/ambergalvano/Desktop/hard-drive_copy/Py...</td>\n",
       "      <td>294.273022</td>\n",
       "      <td>58984</td>\n",
       "    </tr>\n",
       "    <tr>\n",
       "      <th>121</th>\n",
       "      <td>1509.650316</td>\n",
       "      <td>1509.751196</td>\n",
       "      <td>ts</td>\n",
       "      <td>/Users/ambergalvano/Desktop/hard-drive_copy/Py...</td>\n",
       "      <td>1509.700756</td>\n",
       "      <td>302622</td>\n",
       "    </tr>\n",
       "    <tr>\n",
       "      <th>115</th>\n",
       "      <td>1355.883056</td>\n",
       "      <td>1356.025402</td>\n",
       "      <td>tʃ</td>\n",
       "      <td>/Users/ambergalvano/Desktop/hard-drive_copy/Py...</td>\n",
       "      <td>1355.954229</td>\n",
       "      <td>271803</td>\n",
       "    </tr>\n",
       "  </tbody>\n",
       "</table>\n",
       "<p>61 rows × 6 columns</p>\n",
       "</div>"
      ],
      "text/plain": [
       "              t1           t2 label  \\\n",
       "95   1232.133216  1232.249013     t   \n",
       "29    292.037226   292.143685    th   \n",
       "79   1014.155777  1014.271695    th   \n",
       "77   1013.847449  1013.987454    th   \n",
       "75   1013.651247  1013.759419    th   \n",
       "..           ...          ...   ...   \n",
       "55    772.236100   772.385477    ts   \n",
       "57    773.497182   773.637170    ts   \n",
       "31    294.202572   294.343472    ts   \n",
       "121  1509.650316  1509.751196    ts   \n",
       "115  1355.883056  1356.025402    tʃ   \n",
       "\n",
       "                                                 fname        midpt  midpt_idx  \n",
       "95   /Users/ambergalvano/Desktop/hard-drive_copy/Py...  1232.191115     246994  \n",
       "29   /Users/ambergalvano/Desktop/hard-drive_copy/Py...   292.090456      58546  \n",
       "79   /Users/ambergalvano/Desktop/hard-drive_copy/Py...  1014.213736     203299  \n",
       "77   /Users/ambergalvano/Desktop/hard-drive_copy/Py...  1013.917451     203240  \n",
       "75   /Users/ambergalvano/Desktop/hard-drive_copy/Py...  1013.705333     203197  \n",
       "..                                                 ...          ...        ...  \n",
       "55   /Users/ambergalvano/Desktop/hard-drive_copy/Py...   772.310788     154809  \n",
       "57   /Users/ambergalvano/Desktop/hard-drive_copy/Py...   773.567176     155060  \n",
       "31   /Users/ambergalvano/Desktop/hard-drive_copy/Py...   294.273022      58984  \n",
       "121  /Users/ambergalvano/Desktop/hard-drive_copy/Py...  1509.700756     302622  \n",
       "115  /Users/ambergalvano/Desktop/hard-drive_copy/Py...  1355.954229     271803  \n",
       "\n",
       "[61 rows x 6 columns]"
      ]
     },
     "execution_count": 104,
     "metadata": {},
     "output_type": "execute_result"
    }
   ],
   "source": [
    "labelled = proddf[proddf['label'] != ''].sort_values('label')\n",
    "print(f'number of tokens: {len(labelled)}')\n",
    "labelled"
   ]
  },
  {
   "cell_type": "markdown",
   "id": "acf0742a",
   "metadata": {},
   "source": [
    "Create a 1D array of indexes into the `spect_times` dimension of the auditory spectrogram. In the case where `num_slice = 5`, this index will consist of two slices before the `midpt_idx` and two slices after. In other words, we have the indexes of five-spectrum windows centered at each midpoint. The first 10 indexes are shown, and each group of five are consecutive integers.\n",
    "\n",
    "Purpose: we don't just want to classify based on midpoint, we want an adequate range around it to characterize the token."
   ]
  },
  {
   "cell_type": "code",
   "execution_count": 105,
   "id": "9a47a3d6",
   "metadata": {},
   "outputs": [
    {
     "name": "stdout",
     "output_type": "stream",
     "text": [
      "[246984 246985 246986 246987 246988 246989 246990 246991 246992 246993]\n"
     ]
    }
   ],
   "source": [
    "# array in numpy is a list that can hold mutiple types and be multidimensional (e.g. contain lists)\n",
    "offset = int(np.floor(num_slice / 2)) # half num spectral slices\n",
    "\n",
    "# get range around midpt (+ 1) gets correct index for top value\n",
    "# ravel flattens the ranges for every midpt into a 1D array\n",
    "specidx = np.ravel([np.arange(m - offset, m + offset + 1) for m in labelled['midpt_idx']])\n",
    "print(specidx[:10])"
   ]
  },
  {
   "cell_type": "markdown",
   "id": "2e56dfdb",
   "metadata": {},
   "source": [
    "Also create a 1D array of the corresponding times for each spectral slice selected by `specidx`. Again there are groups of five and the first ten are shown. The distance between consecutive slices in a group is the `step` value used in the analysis, approximately 5ms."
   ]
  },
  {
   "cell_type": "code",
   "execution_count": 106,
   "id": "f52179b5",
   "metadata": {},
   "outputs": [
    {
     "name": "stdout",
     "output_type": "stream",
     "text": [
      "[1232.14294785 1232.14793651 1232.15292517 1232.15791383 1232.16290249\n",
      " 1232.16789116 1232.17287982 1232.17786848 1232.18285714 1232.1878458 ]\n"
     ]
    }
   ],
   "source": [
    "spectimes = d['spect_times'][specidx] # get the times that correspond to the extracted indices\n",
    "print(spectimes[:10])"
   ]
  },
  {
   "cell_type": "markdown",
   "id": "41eef667",
   "metadata": {},
   "source": [
    "Use the indexes to select values from the auditory spectrogram. The spectral slices for the tokens are stored along the first axis of the result, with 5 spectral slices per token. The second axis represents frequency bins."
   ]
  },
  {
   "cell_type": "code",
   "execution_count": 107,
   "id": "73e6dc2c",
   "metadata": {},
   "outputs": [
    {
     "name": "stdout",
     "output_type": "stream",
     "text": [
      "specs shape (1281, 86) (token-slices, spectral data)\n",
      "number of tokens * number of spectral slices: 1281\n"
     ]
    }
   ],
   "source": [
    "layer = 'zgram'   # Could be igram, lgram, ogram\n",
    "specs = d[layer][specidx]\n",
    "print(f'specs shape {specs.shape} (token-slices, spectral data)')\n",
    "print(f'number of tokens * number of spectral slices: {len(labelled)*num_slice}')"
   ]
  },
  {
   "cell_type": "markdown",
   "id": "b1db820a",
   "metadata": {},
   "source": [
    "It is fairly easy to see the discontinuities at the edges of each token in the resulting spectrogram of all tokens. The `transpose` operation is used to make time the x-axis and frequency the y-axis of the spectrogram."
   ]
  },
  {
   "cell_type": "code",
   "execution_count": 108,
   "id": "c2dd8925",
   "metadata": {},
   "outputs": [
    {
     "data": {
      "text/plain": [
       "<matplotlib.image.AxesImage at 0x16c459bd0>"
      ]
     },
     "execution_count": 108,
     "metadata": {},
     "output_type": "execute_result"
    },
    {
     "data": {
      "image/png": "[encoded data removed]",
      "text/plain": [
       "<Figure size 640x480 with 1 Axes>"
      ]
     },
     "metadata": {},
     "output_type": "display_data"
    }
   ],
   "source": [
    "# these are the token slices across the entire recording squished together\n",
    "plt.imshow(specs.transpose(), origin=\"lower\", aspect=5.0)"
   ]
  },
  {
   "cell_type": "markdown",
   "id": "37836fed",
   "metadata": {},
   "source": [
    "To display the spectrogram of a single token you can choose the integer index of a token from `labelled` (contains the TG data) and use that to take a slice of `specs` and `spectimes`.\n",
    "\n",
    "Be careful not to confuse the Pandas [location index and the label index](https://pandas.pydata.org/docs/user_guide/indexing.html#different-choices-for-indexing). Here we are choosing an index by location in order to match numpy's array index, and `tokenidx = 2` matches the third row in `labelled`, which isn't necessarily the row with the value `2` in the label index."
   ]
  },
  {
   "cell_type": "code",
   "execution_count": 109,
   "id": "971d0e07",
   "metadata": {},
   "outputs": [
    {
     "name": "stdout",
     "output_type": "stream",
     "text": [
      "Showing spectrogram of slices of token \"th\" at times [1014.16335601 1014.16834467 1014.17333333 1014.178322   1014.18331066\n",
      " 1014.18829932 1014.19328798 1014.19827664 1014.20326531 1014.20825397\n",
      " 1014.21324263 1014.21823129 1014.22321995 1014.22820862 1014.23319728\n",
      " 1014.23818594 1014.2431746  1014.24816327 1014.25315193 1014.25814059\n",
      " 1014.26312925]\n"
     ]
    },
    {
     "data": {
      "text/plain": [
       "<matplotlib.image.AxesImage at 0x16c4b1a10>"
      ]
     },
     "execution_count": 109,
     "metadata": {},
     "output_type": "execute_result"
    },
    {
     "data": {
      "image/png": "[encoded data removed]",
      "text/plain": [
       "<Figure size 640x480 with 1 Axes>"
      ]
     },
     "metadata": {},
     "output_type": "display_data"
    }
   ],
   "source": [
    "tokenidx = 2  # Can be any integer from 0 to len(labelled) - 1.\n",
    "\n",
    "# Calculate the starting index of the slices for this token.\n",
    "    # e.g. if num_slice = 5 and tokenidx = 2, the starting index will be 2 * 5 = 10.\n",
    "# Then calculate the ending index for the slice, which is one past the last index for the token. 10 + 5 = 15\n",
    "tokenrange = np.arange(tokenidx * num_slice, (tokenidx * num_slice) + num_slice) # Output: [10, 11, 12, 13, 14]\n",
    "\n",
    "\n",
    "tokenimg = specs[tokenrange] # get the spectral slices at integers [10, 11, 12, 13, 14]\n",
    "tokentimes = spectimes[tokenrange] # get the times at those indices\n",
    "\n",
    "# this is the new audspec for a \"th\" token\n",
    "print(f'Showing spectrogram of slices of token \"{labelled[\"label\"].iloc[tokenidx]}\" at times {tokentimes}')\n",
    "plt.imshow(tokenimg.transpose(), origin=\"lower\", aspect=0.15)"
   ]
  },
  {
   "cell_type": "markdown",
   "id": "a34078bd",
   "metadata": {},
   "source": [
    "## Reshaping tokens\n",
    "\n",
    "It can be useful to reshape the spectral data so that all of the spectral data for each token is in the same row. To do this, use the number of tokens as the first argument of [`reshape`](https://numpy.org/doc/stable/reference/generated/numpy.reshape.html#numpy.reshape). The dimensions of the new array correspond to (tokens, slice-freqs)."
   ]
  },
  {
   "cell_type": "code",
   "execution_count": 150,
   "id": "984921da",
   "metadata": {},
   "outputs": [
    {
     "data": {
      "text/plain": [
       "(61, 1806)"
      ]
     },
     "execution_count": 150,
     "metadata": {},
     "output_type": "execute_result"
    }
   ],
   "source": [
    "longspecs = specs.reshape(len(labelled), -1)\n",
    "longspecs.shape"
   ]
  },
  {
   "cell_type": "markdown",
   "id": "5d3e9d55",
   "metadata": {},
   "source": [
    "The discontinuities in the result again make it easy to see the individual spectral slices. The visual below shows the 5 slices for each token stacked vertically; each horizontal step is a token. This is the arrangement we need to treat each token as a datapoint for classification."
   ]
  },
  {
   "cell_type": "code",
   "execution_count": 111,
   "id": "12fa940f",
   "metadata": {},
   "outputs": [
    {
     "data": {
      "text/plain": [
       "<matplotlib.image.AxesImage at 0x16c50dcd0>"
      ]
     },
     "execution_count": 111,
     "metadata": {},
     "output_type": "execute_result"
    },
    {
     "data": {
      "image/png": "[encoded data removed]",
      "text/plain": [
       "<Figure size 640x480 with 1 Axes>"
      ]
     },
     "metadata": {},
     "output_type": "display_data"
    }
   ],
   "source": [
    "plt.imshow(longspecs.transpose(), origin=\"lower\", aspect=0.5)"
   ]
  },
  {
   "cell_type": "markdown",
   "id": "5505ac59",
   "metadata": {},
   "source": [
    "The length of the selected labels matches the number of rows in `longspecs`."
   ]
  },
  {
   "cell_type": "code",
   "execution_count": 112,
   "id": "173b05f0",
   "metadata": {},
   "outputs": [
    {
     "data": {
      "text/plain": [
       "95      t\n",
       "29     th\n",
       "79     th\n",
       "77     th\n",
       "75     th\n",
       "       ..\n",
       "55     ts\n",
       "57     ts\n",
       "31     ts\n",
       "121    ts\n",
       "115    tʃ\n",
       "Name: label, Length: 61, dtype: object"
      ]
     },
     "execution_count": 112,
     "metadata": {},
     "output_type": "execute_result"
    }
   ],
   "source": [
    "labelled['label']"
   ]
  },
  {
   "cell_type": "markdown",
   "id": "f26e76ca-bca4-471c-8ae9-30f382ab0c79",
   "metadata": {},
   "source": [
    "# Predicting labels using SVM"
   ]
  },
  {
   "cell_type": "markdown",
   "id": "e74a213c",
   "metadata": {},
   "source": [
    "You now have objects of the type that can be inputs to [`SVC.fit()`](https://scikit-learn.org/stable/modules/generated/sklearn.svm.SVC.html#sklearn.svm.SVC.fit). The `y` parameter can be provided by `labelled['label']`, and the `X` parameter by `longspecs`."
   ]
  },
  {
   "cell_type": "code",
   "execution_count": 123,
   "id": "8ff40ae6",
   "metadata": {},
   "outputs": [],
   "source": [
    "from sklearn import svm\n",
    "from sklearn.svm import SVC\n",
    "from sklearn.pipeline import make_pipeline\n",
    "from sklearn.preprocessing import StandardScaler\n",
    "from sklearn.metrics import accuracy_score, confusion_matrix"
   ]
  },
  {
   "cell_type": "code",
   "execution_count": 142,
   "id": "6b7e3a8e",
   "metadata": {},
   "outputs": [
    {
     "name": "stdout",
     "output_type": "stream",
     "text": [
      "['t' 'th' 'th' 'th' 'th' 'ts' 'ts' 'th' 'th' 'th' 'th' 'th' 'th' 'th' 'th'\n",
      " 'ts' 'ts' 'ts' 'th' 'th' 'ts' 'ts' 'ts' 'ts' 'ts' 'ts' 'ts' 'ts' 'ts'\n",
      " 'ts' 'ts' 'ts' 'ts' 'ts' 'ts' 'ts' 'ts' 'ts' 'ts' 'ts' 'ts' 'ts' 'ts'\n",
      " 'ts' 'ts' 'ts' 'ts' 'ts' 'ts' 'ts' 'ts' 'ts' 'ts' 'ts' 'ts' 'ts' 'ts'\n",
      " 'ts' 'ts' 'ts' 'tʃ']\n"
     ]
    }
   ],
   "source": [
    "X = longspecs\n",
    "y = labelled['label']\n",
    "\n",
    "test = make_pipeline(StandardScaler(), SVC(gamma='auto')) \n",
    "# Standardize the data by removing the mean and scaling it to unit variance\n",
    "    # so that each feature contributes equally to the model\n",
    "test.fit(X, y)\n",
    "print(test.predict(X))"
   ]
  },
  {
   "cell_type": "markdown",
   "id": "176c50f6-1d0f-4991-8e32-96a20474f84e",
   "metadata": {},
   "source": [
    "With 21 slices per token, the counts of each predicted token type are very close to those of the hand-labeled data:"
   ]
  },
  {
   "cell_type": "code",
   "execution_count": 143,
   "id": "6948475f-e5f8-4942-8d21-887c2fe61384",
   "metadata": {},
   "outputs": [
    {
     "data": {
      "text/plain": [
       "label\n",
       "ts    40\n",
       "th    19\n",
       "t      1\n",
       "tʃ     1\n",
       "Name: count, dtype: int64"
      ]
     },
     "execution_count": 143,
     "metadata": {},
     "output_type": "execute_result"
    }
   ],
   "source": [
    "labelled['label'].value_counts()"
   ]
  },
  {
   "cell_type": "code",
   "execution_count": 144,
   "id": "1c8dc0f2-fdfe-4476-9254-6d0a63370b1a",
   "metadata": {},
   "outputs": [
    {
     "name": "stdout",
     "output_type": "stream",
     "text": [
      "Prediction: t, Count: 1\n",
      "Prediction: th, Count: 14\n",
      "Prediction: ts, Count: 45\n",
      "Prediction: tʃ, Count: 1\n"
     ]
    }
   ],
   "source": [
    "# Get unique predictions and their counts\n",
    "predictions = test.predict(X)\n",
    "unique_predictions, counts = np.unique(predictions, return_counts=True)\n",
    "\n",
    "for label, count in zip(unique_predictions, counts):\n",
    "    print(f\"Prediction: {label}, Count: {count}\")"
   ]
  },
  {
   "cell_type": "code",
   "execution_count": 145,
   "id": "c8069ac1-6967-4316-9991-09a4ba29ffde",
   "metadata": {},
   "outputs": [
    {
     "name": "stdout",
     "output_type": "stream",
     "text": [
      "Accuracy: 91.80%\n",
      "Confusion Matrix:\n",
      "[[ 1  0  0  0]\n",
      " [ 0 14  5  0]\n",
      " [ 0  0 40  0]\n",
      " [ 0  0  0  1]]\n"
     ]
    }
   ],
   "source": [
    "accuracy = accuracy_score(y, predictions)\n",
    "print(f\"Accuracy: {accuracy * 100:.2f}%\")\n",
    "\n",
    "# Confusion matrix to evaluate performance by class\n",
    "print(\"Confusion Matrix:\")\n",
    "print(confusion_matrix(y, predictions))"
   ]
  },
  {
   "cell_type": "markdown",
   "id": "57435e8f-3e08-47ee-a2ec-a953fd0f5747",
   "metadata": {},
   "source": [
    "Other parameters to adjust in the modeling include:\n",
    "- `kernel` when creating the pipeline: `'linear', 'poly', 'rbf', 'sigmoid'`\n",
    "- `C` (Regularization Parameter): Balances the trade-off between achieving a low error on the training set and a simpler decision boundary.\n",
    "    - Increase C for fewer misclassifications but more risk of overfitting.\n",
    "    - Decrease C for a simpler model with more generalization.\n",
    "- `gamma`: Defines the influence of a single training example\n",
    "    - Lower gamma results in smoother decision boundaries.\n",
    "    - Higher gamma allows more complex boundaries but risks overfitting. "
   ]
  },
  {
   "cell_type": "markdown",
   "id": "9e5fce39-5cfc-4aaa-a033-130a16163002",
   "metadata": {},
   "source": [
    "How does it do when predicting on a second speaker file? How many speakers' data do we need to make accurate predictions?"
   ]
  },
  {
   "cell_type": "markdown",
   "id": "884da128-249c-4155-a940-6e9599af8e04",
   "metadata": {},
   "source": [
    "## Testing on new data"
   ]
  },
  {
   "cell_type": "code",
   "execution_count": 146,
   "id": "0ddb62bb-a9b5-4326-80bd-a961dad21919",
   "metadata": {},
   "outputs": [
    {
     "data": {
      "text/plain": [
       "(78, 1806)"
      ]
     },
     "execution_count": 146,
     "metadata": {},
     "output_type": "execute_result"
    }
   ],
   "source": [
    "tgname1 = 'AN_F11_MN'\n",
    "audspfile1 = tgdir / 'audspec_3_14' / f'{tgname}.audspec.npz'\n",
    "\n",
    "[phdf1, wddf1, proddf1] = read_label(str(tgdir / f'{tgname1}.TextGrid'), ftype='praat')\n",
    "proddf1['midpt'] = proddf1.loc[:, ['t1', 't2']].mean(axis='columns')\n",
    "\n",
    "d1 = np.load(audspfile1, mmap_mode='r')\n",
    "\n",
    "proddf1['midpt_idx'] = [np.argmin(np.abs(d1['spect_times'] - m)) for m in proddf1['midpt']]\n",
    "\n",
    "labelled1 = proddf1[proddf1['label'] != ''].sort_values('label')\n",
    "\n",
    "specidx1 = np.ravel([np.arange(m - offset, m + offset + 1) for m in labelled1['midpt_idx']])\n",
    "spectimes1 = d1['spect_times'][specidx1]\n",
    "\n",
    "layer1 = 'zgram'   # Could be igram, lgram, ogram\n",
    "specs1 = d1[layer1][specidx1]\n",
    "\n",
    "longspecs1 = specs1.reshape(len(labelled1), -1)\n",
    "longspecs1.shape"
   ]
  },
  {
   "cell_type": "code",
   "execution_count": 147,
   "id": "289a7d4c-be81-47a7-8a1c-f671d1d38e16",
   "metadata": {},
   "outputs": [
    {
     "name": "stdout",
     "output_type": "stream",
     "text": [
      "['ts' 'ts' 'ts' 'ts' 'ts' 'ts' 'ts' 'ts' 'ts' 'ts' 'ts' 'ts' 'ts' 'ts'\n",
      " 'ts' 'ts' 'ts' 'ts' 'ts' 'ts' 'ts' 'ts' 'ts' 'ts' 'ts' 'ts' 'ts' 'ts'\n",
      " 'ts' 'ts' 'ts' 'ts' 'ts' 'ts' 'ts' 'ts' 'ts' 'ts' 'ts' 'ts' 'ts' 'ts'\n",
      " 'ts' 'ts' 'ts' 'ts' 'ts' 'ts' 'ts' 'ts' 'ts' 'ts' 'ts' 'ts' 'ts' 'ts'\n",
      " 'ts' 'ts' 'ts' 'ts' 'ts' 'ts' 'ts' 'ts' 'ts' 'ts' 'ts' 'ts' 'ts' 'ts'\n",
      " 'ts' 'ts' 'ts' 'ts' 'ts' 'ts' 'ts' 'ts']\n"
     ]
    }
   ],
   "source": [
    "X_test = longspecs1\n",
    "y_test = labelled1['label']\n",
    "\n",
    "predictions1 = test.predict(X_test)\n",
    "print(predictions1)"
   ]
  },
  {
   "cell_type": "code",
   "execution_count": 148,
   "id": "0b36c746-0363-412b-af5a-b99c956b777e",
   "metadata": {},
   "outputs": [
    {
     "name": "stdout",
     "output_type": "stream",
     "text": [
      "Accuracy: 37.18%\n",
      "Confusion Matrix:\n",
      "[[ 0  0  0 10]\n",
      " [ 0  0  0  5]\n",
      " [ 0  0  0 34]\n",
      " [ 0  0  0 29]]\n"
     ]
    }
   ],
   "source": [
    "accuracy1 = accuracy_score(y_test, predictions1)\n",
    "print(f\"Accuracy: {accuracy1 * 100:.2f}%\")\n",
    "\n",
    "# Confusion matrix to evaluate performance by class\n",
    "print(\"Confusion Matrix:\")\n",
    "print(confusion_matrix(y_test, predictions1))"
   ]
  },
  {
   "cell_type": "code",
   "execution_count": 161,
   "id": "634e85ae-b783-4714-96ba-af80593b835b",
   "metadata": {},
   "outputs": [],
   "source": [
    "# this will get 100% accuracy on training set but do worse on test set\n",
    "# from sklearn.model_selection import GridSearchCV\n",
    "# parameters = {\n",
    "#     'svc__C': [0.1, 1, 10],\n",
    "#     'svc__gamma': ['scale', 'auto', 0.1, 1],\n",
    "#     'svc__kernel': ['linear', 'rbf', 'poly']\n",
    "# }\n",
    "# grid_search = GridSearchCV(test, parameters, cv=5)\n",
    "# grid_search.fit(X, y)\n",
    "# print(\"Best parameters:\", grid_search.best_params_)"
   ]
  },
  {
   "cell_type": "markdown",
   "id": "8fb7f264-35fe-4fe6-9211-10e48267c3cf",
   "metadata": {},
   "source": [
    "## Train on two, test on one\n",
    "Combine data from AN_F1_AC and AN_F11_MN"
   ]
  },
  {
   "cell_type": "code",
   "execution_count": 151,
   "id": "0ea488f1-725a-4147-a56d-bbce16302a11",
   "metadata": {},
   "outputs": [
    {
     "data": {
      "text/plain": [
       "(139, 1806)"
      ]
     },
     "execution_count": 151,
     "metadata": {},
     "output_type": "execute_result"
    }
   ],
   "source": [
    "comb_longspecs = np.vstack((longspecs, longspecs1))\n",
    "comb_longspecs.shape"
   ]
  },
  {
   "cell_type": "code",
   "execution_count": 154,
   "id": "bdc1efaf-6d40-4bac-bb57-9ddefbb55c41",
   "metadata": {},
   "outputs": [
    {
     "data": {
      "text/plain": [
       "(139, 6)"
      ]
     },
     "execution_count": 154,
     "metadata": {},
     "output_type": "execute_result"
    }
   ],
   "source": [
    "comb_labelled = pd.concat([labelled, labelled1], ignore_index=True)\n",
    "comb_labelled.shape"
   ]
  },
  {
   "cell_type": "code",
   "execution_count": 158,
   "id": "4bdf6b4e-ae87-4763-ac3b-cc086ec4540a",
   "metadata": {},
   "outputs": [
    {
     "name": "stdout",
     "output_type": "stream",
     "text": [
      "['t' 'th' 'th' 'th' 'th' 'ts' 'ts' 'th' 'th' 'th' 'th' 'th' 'th' 'th' 'th'\n",
      " 'ts' 'ts' 'ts' 'th' 'th' 'ts' 'ts' 'ts' 'ts' 'ts' 'ts' 'ts' 'ts' 'ts'\n",
      " 'ts' 'ts' 'ts' 'ts' 'ts' 'ts' 'ts' 'ts' 'ts' 'ts' 'ts' 'ts' 'ts' 'ts'\n",
      " 'ts' 'ts' 'ts' 'ts' 'ts' 'ts' 'ts' 'ts' 'ts' 'ts' 'ts' 'ts' 'ts' 'ts'\n",
      " 'ts' 'ts' 'ts' 'tʃ' 'ts' 'ts' 'ts' 'ts' 'ts' 'ts' 'ts' 'ts' 'ts' 'ts'\n",
      " 'ts' 'ts' 'ts' 'ts' 'ts' 'ts' 'ts' 'ts' 'ts' 'ts' 'ts' 'ts' 'ts' 'ts'\n",
      " 'ts' 'ts' 'ts' 'ts' 'ts' 'ts' 'ts' 'ts' 'ts' 'ts' 'ts' 'ts' 'ts' 'ts'\n",
      " 'ts' 'ts' 'ts' 'ts' 'ts' 'ts' 'ts' 'ts' 'ts' 'ts' 'ts' 'ts' 'ts' 'ts'\n",
      " 'ts' 'ts' 'ts' 'ts' 'ts' 'ts' 'ts' 'ts' 'ts' 'ts' 'ts' 'ts' 'ts' 'ts'\n",
      " 'ts' 'ts' 'ts' 'ts' 'ts' 'ts' 'ts' 'ts' 'ts' 'ts' 'ts' 'ts']\n"
     ]
    }
   ],
   "source": [
    "X_train = comb_longspecs\n",
    "y_train = comb_labelled['label']\n",
    "\n",
    "test1 = make_pipeline(StandardScaler(), SVC(gamma='auto'))\n",
    "test1.fit(X_train, y_train)\n",
    "print(test.predict(X_train))"
   ]
  },
  {
   "cell_type": "code",
   "execution_count": 160,
   "id": "1b7a5f4f-c1c7-4ec2-975b-25be6caa1193",
   "metadata": {},
   "outputs": [
    {
     "data": {
      "text/plain": [
       "label\n",
       "ts    69\n",
       "th    53\n",
       "s     10\n",
       "t      6\n",
       "tʃ     1\n",
       "Name: count, dtype: int64"
      ]
     },
     "execution_count": 160,
     "metadata": {},
     "output_type": "execute_result"
    }
   ],
   "source": [
    "comb_labelled['label'].value_counts()"
   ]
  },
  {
   "cell_type": "code",
   "execution_count": 159,
   "id": "64687477-5ddd-4d49-9e23-9b63d486f974",
   "metadata": {},
   "outputs": [
    {
     "name": "stdout",
     "output_type": "stream",
     "text": [
      "Prediction: s, Count: 1\n",
      "Prediction: th, Count: 63\n",
      "Prediction: ts, Count: 75\n"
     ]
    }
   ],
   "source": [
    "# Get unique predictions and their counts\n",
    "predictions2 = test1.predict(X_train)\n",
    "unique_predictions1, counts1 = np.unique(predictions2, return_counts=True)\n",
    "\n",
    "for label, count in zip(unique_predictions1, counts1):\n",
    "    print(f\"Prediction: {label}, Count: {count}\")"
   ]
  },
  {
   "cell_type": "code",
   "execution_count": 163,
   "id": "dde4a159-bad0-4ed8-bd4e-71a6babb19be",
   "metadata": {},
   "outputs": [
    {
     "name": "stdout",
     "output_type": "stream",
     "text": [
      "Accuracy: 68.35%\n",
      "Confusion Matrix:\n",
      "[[ 1  0  8  1  0]\n",
      " [ 0  0  2  4  0]\n",
      " [ 0  0 39 14  0]\n",
      " [ 0  0 14 55  0]\n",
      " [ 0  0  0  1  0]]\n"
     ]
    }
   ],
   "source": [
    "accuracy2 = accuracy_score(y_train, predictions2)\n",
    "print(f\"Accuracy: {accuracy2 * 100:.2f}%\")\n",
    "\n",
    "# Confusion matrix to evaluate performance by class\n",
    "print(\"Confusion Matrix:\")\n",
    "print(confusion_matrix(y_train, predictions2))"
   ]
  },
  {
   "cell_type": "markdown",
   "id": "0e257f91-4484-42af-9488-ebe829825428",
   "metadata": {},
   "source": [
    "Test on AN_F16_SC."
   ]
  },
  {
   "cell_type": "code",
   "execution_count": 177,
   "id": "35e8fa45-6f8c-4e2a-b427-844708d5d21c",
   "metadata": {},
   "outputs": [
    {
     "data": {
      "text/plain": [
       "(85, 1806)"
      ]
     },
     "execution_count": 177,
     "metadata": {},
     "output_type": "execute_result"
    }
   ],
   "source": [
    "tgname2 = 'AN_F16_SC'\n",
    "audspfile2 = tgdir / 'audspec_3_14' / f'{tgname}.audspec.npz'\n",
    "\n",
    "[phdf2, wddf2, proddf2] = read_label(str(tgdir / f'{tgname2}.TextGrid'), ftype='praat')\n",
    "proddf2['midpt'] = proddf2.loc[:, ['t1', 't2']].mean(axis='columns')\n",
    "\n",
    "d2 = np.load(audspfile2, mmap_mode='r')\n",
    "\n",
    "proddf2['midpt_idx'] = [np.argmin(np.abs(d2['spect_times'] - m)) for m in proddf2['midpt']]\n",
    "\n",
    "labelled2 = proddf2[proddf2['label'] != ''].sort_values('label')\n",
    "\n",
    "specidx2 = np.ravel([np.arange(m - offset, m + offset + 1) for m in labelled2['midpt_idx']])\n",
    "spectimes2 = d2['spect_times'][specidx2]\n",
    "\n",
    "layer2 = 'zgram'   # Could be igram, lgram, ogram\n",
    "specs2 = d2[layer2][specidx2]\n",
    "\n",
    "longspecs2 = specs2.reshape(len(labelled2), -1)\n",
    "longspecs2.shape"
   ]
  },
  {
   "cell_type": "code",
   "execution_count": 179,
   "id": "ba52170f-c9ea-494c-a34c-81b066dd6829",
   "metadata": {},
   "outputs": [
    {
     "name": "stdout",
     "output_type": "stream",
     "text": [
      "['th' 'th' 'ts' 'th' 'ts' 'th' 'th' 'th' 'th' 'th' 'ts' 'th' 'ts' 'th'\n",
      " 'th' 'th' 'th' 'th' 'ts' 'th' 'th' 'th' 'ts' 'th' 'th' 'ts' 'th' 'ts'\n",
      " 'th' 'th' 'th' 'th' 'ts' 'ts' 'th' 'th' 'th' 'th' 'th' 'ts' 'th' 'th'\n",
      " 'ts' 'th' 'th' 'th' 'th' 'ts' 'ts' 'th' 'th' 'th' 'th' 'th' 'th' 'th'\n",
      " 'th' 'th' 'ts' 'th' 'th' 'th' 'th' 'th' 'th' 'th' 'th' 'ts' 'th' 'th'\n",
      " 'th' 'th' 'ts' 'ts' 'th' 'th' 'th' 'th' 'th' 'ts' 'th' 'th' 'th' 'ts'\n",
      " 'ts']\n"
     ]
    }
   ],
   "source": [
    "X_test1 = longspecs2\n",
    "y_test1 = labelled2['label']\n",
    "\n",
    "predictions3 = test1.predict(X_test1)\n",
    "print(predictions3)"
   ]
  },
  {
   "cell_type": "code",
   "execution_count": 180,
   "id": "c123af19-9bfa-484e-8637-77b6b010d911",
   "metadata": {},
   "outputs": [
    {
     "name": "stdout",
     "output_type": "stream",
     "text": [
      "Prediction: th, Count: 64\n",
      "Prediction: ts, Count: 21\n"
     ]
    }
   ],
   "source": [
    "predictions3 = test1.predict(X_test1)\n",
    "unique_predictions2, counts2 = np.unique(predictions3, return_counts=True)\n",
    "\n",
    "for label, count in zip(unique_predictions2, counts2):\n",
    "    print(f\"Prediction: {label}, Count: {count}\")"
   ]
  },
  {
   "cell_type": "code",
   "execution_count": 181,
   "id": "e2f73734-40d1-449a-aa24-dcfc5934a76b",
   "metadata": {},
   "outputs": [
    {
     "name": "stdout",
     "output_type": "stream",
     "text": [
      "Accuracy: 57.65%\n",
      "Confusion Matrix:\n",
      "[[ 0  0  0  0  1  0  0]\n",
      " [ 0  0  0  0  2  1  0]\n",
      " [ 0  0  0  0  2  1  0]\n",
      " [ 0  0  0  0  4  1  0]\n",
      " [ 0  0  0  0 47 15  0]\n",
      " [ 0  0  0  0  8  2  0]\n",
      " [ 0  0  0  0  0  1  0]]\n"
     ]
    }
   ],
   "source": [
    "accuracy3 = accuracy_score(y_test1, predictions3)\n",
    "print(f\"Accuracy: {accuracy3 * 100:.2f}%\")\n",
    "\n",
    "# Confusion matrix to evaluate performance by class\n",
    "print(\"Confusion Matrix:\")\n",
    "print(confusion_matrix(y_test1, predictions3))"
   ]
  },
  {
   "cell_type": "markdown",
   "id": "1388f8ad-3bea-4b07-9ffe-71ac5ee2e813",
   "metadata": {},
   "source": [
    "Accuracy is improved but still quite low with a doubled training set."
   ]
  },
  {
   "cell_type": "markdown",
   "id": "d73b53f7-bd60-4af6-a208-e8e72684e7f0",
   "metadata": {},
   "source": [
    "## Train on half of all speakers' data, test on other half"
   ]
  },
  {
   "cell_type": "code",
   "execution_count": null,
   "id": "14545ef3-d6f6-4ad0-89be-18af5393b4d2",
   "metadata": {},
   "outputs": [],
   "source": [
    "from pathlib import Path\n",
    "import os\n",
    "from phonlab.utils import dir2df"
   ]
  },
  {
   "cell_type": "code",
   "execution_count": 328,
   "id": "d3ed49f9-0763-47c5-b806-118ab2af9ec6",
   "metadata": {},
   "outputs": [
    {
     "data": {
      "text/html": [
       "<div>\n",
       "<style scoped>\n",
       "    .dataframe tbody tr th:only-of-type {\n",
       "        vertical-align: middle;\n",
       "    }\n",
       "\n",
       "    .dataframe tbody tr th {\n",
       "        vertical-align: top;\n",
       "    }\n",
       "\n",
       "    .dataframe thead th {\n",
       "        text-align: right;\n",
       "    }\n",
       "</style>\n",
       "<table border=\"1\" class=\"dataframe\">\n",
       "  <thead>\n",
       "    <tr style=\"text-align: right;\">\n",
       "      <th></th>\n",
       "      <th>relpath</th>\n",
       "      <th>fname</th>\n",
       "    </tr>\n",
       "  </thead>\n",
       "  <tbody>\n",
       "    <tr>\n",
       "      <th>0</th>\n",
       "      <td>AN_F11_MN</td>\n",
       "      <td>AN_F11_MN.TextGrid</td>\n",
       "    </tr>\n",
       "    <tr>\n",
       "      <th>1</th>\n",
       "      <td>AN_F16_SC</td>\n",
       "      <td>AN_F16_SC.TextGrid</td>\n",
       "    </tr>\n",
       "    <tr>\n",
       "      <th>2</th>\n",
       "      <td>AN_F17_TC</td>\n",
       "      <td>AN_F17_TC.TextGrid</td>\n",
       "    </tr>\n",
       "    <tr>\n",
       "      <th>3</th>\n",
       "      <td>AN_F18_CE</td>\n",
       "      <td>AN_F18_CE.TextGrid</td>\n",
       "    </tr>\n",
       "    <tr>\n",
       "      <th>4</th>\n",
       "      <td>AN_F1_AC</td>\n",
       "      <td>AN_F1_AC.TextGrid</td>\n",
       "    </tr>\n",
       "    <tr>\n",
       "      <th>5</th>\n",
       "      <td>AN_F20_EP</td>\n",
       "      <td>AN_F20_EP.TextGrid</td>\n",
       "    </tr>\n",
       "  </tbody>\n",
       "</table>\n",
       "</div>"
      ],
      "text/plain": [
       "     relpath               fname\n",
       "0  AN_F11_MN  AN_F11_MN.TextGrid\n",
       "1  AN_F16_SC  AN_F16_SC.TextGrid\n",
       "2  AN_F17_TC  AN_F17_TC.TextGrid\n",
       "3  AN_F18_CE  AN_F18_CE.TextGrid\n",
       "4   AN_F1_AC   AN_F1_AC.TextGrid\n",
       "5  AN_F20_EP  AN_F20_EP.TextGrid"
      ]
     },
     "execution_count": 328,
     "metadata": {},
     "output_type": "execute_result"
    }
   ],
   "source": [
    "tgdir = Path('/Users/ambergalvano/Desktop/hard-drive_copy/Python/Python_things_2_16_23/AN_files_3_14/ready_svm').absolute()\n",
    "tgdirdf = dir2df(tgdir, fnpat=r'\\.TextGrid$')\n",
    "tgdirdf"
   ]
  },
  {
   "cell_type": "markdown",
   "id": "4fcee08a-fbaa-439a-be0b-4ea14fa1e5c3",
   "metadata": {},
   "source": [
    "### Loop"
   ]
  },
  {
   "cell_type": "code",
   "execution_count": 329,
   "id": "3165b178-1539-4017-bea5-4d3235d76bbc",
   "metadata": {},
   "outputs": [],
   "source": [
    "def process_audspecs_svm(tgdir):\n",
    "    lab_train_list = []\n",
    "    lab_test_list = []\n",
    "    specs_train_list = []\n",
    "    specs_test_list = []\n",
    "\n",
    "    tgdirdf = dir2df(tgdir, fnpat=r'\\.TextGrid$')\n",
    "    \n",
    "    for row in tgdirdf.itertuples():\n",
    "        spkrfile = Path(tgdir, row.relpath, row.fname)\n",
    "        audspfile = tgdir / 'audspec_3_14' / f'{row.relpath}.audspec.npz'\n",
    "        \n",
    "        [phdf, wddf, proddf] = read_label(spkrfile.with_suffix('.TextGrid'), ftype='praat')\n",
    "        proddf['midpt'] = proddf.loc[:, ['t1', 't2']].mean(axis='columns')\n",
    "        \n",
    "        d = np.load(audspfile, mmap_mode='r')\n",
    "        \n",
    "        proddf['midpt_idx'] = [np.argmin(np.abs(d['spect_times'] - m)) for m in proddf['midpt']]\n",
    "        \n",
    "        labelled = proddf[proddf['label'] != ''].sort_values('label')\n",
    "        half_lab = len(labelled) // 2\n",
    "        lab_train = labelled.iloc[:half_lab]\n",
    "        lab_test = labelled.iloc[half_lab:]\n",
    "\n",
    "        lab_train_list.append(lab_train)\n",
    "        lab_test_list.append(lab_test)\n",
    "        \n",
    "        specidx = np.ravel([np.arange(m - offset, m + offset + 1) for m in labelled['midpt_idx']])\n",
    "        spectimes = d['spect_times'][specidx]\n",
    "        \n",
    "        layer = 'zgram'   # Could be igram, lgram, ogram\n",
    "        specs = d[layer][specidx]\n",
    "        \n",
    "        longspecs = specs.reshape(len(labelled), -1)\n",
    "        specs_train = longspecs[:half_lab:]\n",
    "        specs_test = longspecs[half_lab:]\n",
    "\n",
    "        specs_train_list.append(specs_train)\n",
    "        specs_test_list.append(specs_test)\n",
    "        \n",
    "    X_train = np.vstack(specs_train_list)\n",
    "    X_test = np.vstack(specs_test_list)\n",
    "    \n",
    "    y_train = pd.concat(lab_train_list, ignore_index=True)\n",
    "    y_train = y_train['label']\n",
    "    y_test = pd.concat(lab_test_list, ignore_index=True)\n",
    "    y_test = y_test['label']\n",
    "    \n",
    "    return X_train, X_test, y_train, y_test"
   ]
  },
  {
   "cell_type": "code",
   "execution_count": 330,
   "id": "002d574d-c2a0-4d35-bfab-d1c7b8f82669",
   "metadata": {},
   "outputs": [],
   "source": [
    "X_train, X_test, y_train, y_test = process_audspecs_svm(tgdir)"
   ]
  },
  {
   "cell_type": "code",
   "execution_count": 331,
   "id": "bbb5731e-89b8-401c-9229-87e915878586",
   "metadata": {},
   "outputs": [
    {
     "data": {
      "text/plain": [
       "(260, 1806)"
      ]
     },
     "execution_count": 331,
     "metadata": {},
     "output_type": "execute_result"
    }
   ],
   "source": [
    "X_train.shape"
   ]
  },
  {
   "cell_type": "markdown",
   "id": "988c1dfc-50cf-42dc-8fe6-57a2bef06d5f",
   "metadata": {},
   "source": [
    "### Try it out"
   ]
  },
  {
   "cell_type": "code",
   "execution_count": 315,
   "id": "444a016f-e6dd-4676-be9f-37fb17e59d48",
   "metadata": {},
   "outputs": [
    {
     "name": "stdout",
     "output_type": "stream",
     "text": [
      "['th' 'th' 'th' 'th' 'th' 'th' 'th' 'th' 'th' 'th' 'th' 'th' 'th' 'th'\n",
      " 'th' 'th' 'th' 'th' 'th' 'th' 'th' 'th' 'th' 'th' 'th' 'th' 'th' 'th'\n",
      " 'th' 'th' 'th' 'th' 'th' 'th' 'th' 'th' 'th' 'th' 'th' 'th' 'th' 'th'\n",
      " 'th' 'th' 'th' 'th' 'th' 'th' 'th' 'th' 'th' 'th' 'th' 'th' 'th' 'th'\n",
      " 'th' 'th' 'th' 'th' 'th' 'th' 'th' 'th' 'th' 'th' 'th' 'th' 'th' 'th'\n",
      " 'th' 'th' 'th' 'th' 'th' 'th' 'th' 'th' 'th' 'th' 'th' 'th' 'th' 'th'\n",
      " 'th' 'th' 'th' 'th' 'th' 'th' 'th' 'th' 'th' 'th' 'th' 'th' 'th' 'th'\n",
      " 'th' 'th' 'th' 'th' 'th' 'th' 'th' 'th' 'th' 'th' 'th' 'th' 'th' 'th'\n",
      " 'th' 'th' 'th' 'th' 'th' 'th' 'th' 'th' 'th' 'th' 'th' 'th' 'th' 'th'\n",
      " 'th' 'th' 'th' 'th' 'th' 'th' 'th' 'th' 'th' 'th' 'th' 'th' 'th' 'th'\n",
      " 'th' 'th' 'th' 'th' 'th' 'th' 'th' 'th' 'th' 'th' 'th' 'th' 'th' 'th'\n",
      " 'th' 'th' 'th' 'th' 'th' 'th' 'th' 'th' 'th' 'th' 'th' 'th' 'th' 'th'\n",
      " 'th' 'th' 'th' 'th' 'th' 'th' 'th' 'th' 'th' 'th' 'th' 'th' 'th' 'th'\n",
      " 'th' 'th' 'th' 'th' 'th' 'th' 'th' 'th' 'th' 'th' 'th' 'th' 'th' 'th'\n",
      " 'th' 'th' 'th' 'th' 'th' 'th' 'th' 'th' 'th' 'th' 'th' 'th' 'ts' 'ts'\n",
      " 'th' 'th' 'ts' 'th' 'ts' 'ts' 'th' 'th' 'th' 'th' 'th' 'th' 'th' 'th'\n",
      " 'th' 'th' 'th' 'th' 'th' 'th' 'th' 'th' 'th' 'th' 'th' 'th' 'th' 'th'\n",
      " 'th' 'th' 'th' 'th' 'th' 'th' 'th' 'th' 'th' 'th' 'th' 'th' 'th' 'th'\n",
      " 'th' 'th' 'th' 'th' 'th' 'th' 'th' 'th']\n"
     ]
    }
   ],
   "source": [
    "test_half = make_pipeline(StandardScaler(), SVC(C=6, gamma='auto')) \n",
    "test_half.fit(X_train, y_train)\n",
    "print(test.predict(X_train))"
   ]
  },
  {
   "cell_type": "code",
   "execution_count": 316,
   "id": "224b753c-f941-4e80-827d-1573048f883c",
   "metadata": {},
   "outputs": [
    {
     "name": "stdout",
     "output_type": "stream",
     "text": [
      "Prediction: 0, Count: 1\n",
      "Prediction: h, Count: 1\n",
      "Prediction: hth, Count: 3\n",
      "Prediction: s, Count: 41\n",
      "Prediction: t, Count: 11\n",
      "Prediction: th, Count: 193\n",
      "Prediction: ts, Count: 10\n"
     ]
    }
   ],
   "source": [
    "pred_half = test_half.predict(X_train)\n",
    "unique_preds_half, counts_half = np.unique(pred_half, return_counts=True)\n",
    "\n",
    "for label, count in zip(unique_preds_half, counts_half):\n",
    "    print(f\"Prediction: {label}, Count: {count}\")"
   ]
  },
  {
   "cell_type": "code",
   "execution_count": 317,
   "id": "ccbbcaa4-6597-41e2-b869-4da583f6607e",
   "metadata": {},
   "outputs": [
    {
     "name": "stdout",
     "output_type": "stream",
     "text": [
      "Accuracy: 86.54%\n",
      "Confusion Matrix:\n",
      "[[  1   0   0   0   0   0   0   0]\n",
      " [  0   0   0   0   0   0   1   0]\n",
      " [  0   0   1   0   0   0   0   0]\n",
      " [  0   0   0   3   0   0   1   0]\n",
      " [  0   0   0   0  41   0  31   0]\n",
      " [  0   0   0   0   0  11   2   0]\n",
      " [  0   0   0   0   0   0 158   0]\n",
      " [  0   0   0   0   0   0   0  10]]\n"
     ]
    }
   ],
   "source": [
    "accuracy_half = accuracy_score(y_train, pred_half)\n",
    "print(f\"Accuracy: {accuracy_half * 100:.2f}%\")\n",
    "\n",
    "# Confusion matrix to evaluate performance by class\n",
    "print(\"Confusion Matrix:\")\n",
    "print(confusion_matrix(y_train, pred_half))"
   ]
  },
  {
   "cell_type": "markdown",
   "id": "7cc28fa4-a3c4-4ecb-9dbb-0d28854347ca",
   "metadata": {},
   "source": [
    "### Predict other half of data"
   ]
  },
  {
   "cell_type": "code",
   "execution_count": 318,
   "id": "1458e5fe-51c1-4d95-98e7-77c9a2805e6d",
   "metadata": {},
   "outputs": [
    {
     "name": "stdout",
     "output_type": "stream",
     "text": [
      "Prediction: s, Count: 32\n",
      "Prediction: th, Count: 214\n",
      "Prediction: ts, Count: 17\n"
     ]
    }
   ],
   "source": [
    "pred_2half = test_half.predict(X_test)\n",
    "unique_preds_2half, counts_2half = np.unique(pred_2half, return_counts=True)\n",
    "\n",
    "for label, count in zip(unique_preds_2half, counts_2half):\n",
    "    print(f\"Prediction: {label}, Count: {count}\")"
   ]
  },
  {
   "cell_type": "markdown",
   "id": "9773d38b-5506-4415-b850-c739d3a4215e",
   "metadata": {},
   "source": [
    "Next: Can data from dialect help predict labels from another?"
   ]
  },
  {
   "cell_type": "code",
   "execution_count": 319,
   "id": "2af75d94-f9df-4857-ba91-e7bcaf77fc9e",
   "metadata": {},
   "outputs": [
    {
     "name": "stdout",
     "output_type": "stream",
     "text": [
      "Accuracy: 50.19%\n",
      "Confusion Matrix:\n",
      "[[  2   0   9   0   0]\n",
      " [  0   0   2   0   0]\n",
      " [ 17   0 114   1   0]\n",
      " [ 11   0  85  16   0]\n",
      " [  2   0   4   0   0]]\n"
     ]
    }
   ],
   "source": [
    "accuracy_2half = accuracy_score(y_test, pred_2half)\n",
    "print(f\"Accuracy: {accuracy_2half * 100:.2f}%\")\n",
    "\n",
    "# Confusion matrix to evaluate performance by class\n",
    "print(\"Confusion Matrix:\")\n",
    "print(confusion_matrix(y_test, pred_2half))"
   ]
  },
  {
   "cell_type": "markdown",
   "id": "9f249a8e-adda-4118-847f-8c41dded848a",
   "metadata": {},
   "source": [
    "Seems with standard settings, training set accuracy can be anywhere 82-100% accurate, but test never tops 50.19%"
   ]
  },
  {
   "cell_type": "markdown",
   "id": "eb37f36f-b4f9-4d9a-acf8-66331870e416",
   "metadata": {},
   "source": [
    "## Any luck testing on BA dialect?"
   ]
  },
  {
   "cell_type": "markdown",
   "id": "50e14a15-03aa-486a-b164-06becc79b275",
   "metadata": {},
   "source": [
    "### Loop to generate test set only"
   ]
  },
  {
   "cell_type": "code",
   "execution_count": 332,
   "id": "2a60f974-075d-465a-81a8-dc3eca158de4",
   "metadata": {},
   "outputs": [
    {
     "data": {
      "text/html": [
       "<div>\n",
       "<style scoped>\n",
       "    .dataframe tbody tr th:only-of-type {\n",
       "        vertical-align: middle;\n",
       "    }\n",
       "\n",
       "    .dataframe tbody tr th {\n",
       "        vertical-align: top;\n",
       "    }\n",
       "\n",
       "    .dataframe thead th {\n",
       "        text-align: right;\n",
       "    }\n",
       "</style>\n",
       "<table border=\"1\" class=\"dataframe\">\n",
       "  <thead>\n",
       "    <tr style=\"text-align: right;\">\n",
       "      <th></th>\n",
       "      <th>relpath</th>\n",
       "      <th>fname</th>\n",
       "    </tr>\n",
       "  </thead>\n",
       "  <tbody>\n",
       "    <tr>\n",
       "      <th>0</th>\n",
       "      <td>BA_F10_BD</td>\n",
       "      <td>BA_F10_BD.TextGrid</td>\n",
       "    </tr>\n",
       "    <tr>\n",
       "      <th>1</th>\n",
       "      <td>BA_F1_GL</td>\n",
       "      <td>BA_F1_GL.TextGrid</td>\n",
       "    </tr>\n",
       "    <tr>\n",
       "      <th>2</th>\n",
       "      <td>BA_M2_LJ</td>\n",
       "      <td>BA_M2_LJ.TextGrid</td>\n",
       "    </tr>\n",
       "    <tr>\n",
       "      <th>3</th>\n",
       "      <td>BA_M3_MG</td>\n",
       "      <td>BA_M3_MG.TextGrid</td>\n",
       "    </tr>\n",
       "    <tr>\n",
       "      <th>4</th>\n",
       "      <td>BA_M4_MT</td>\n",
       "      <td>BA_M4_MT.TextGrid</td>\n",
       "    </tr>\n",
       "    <tr>\n",
       "      <th>5</th>\n",
       "      <td>BA_M5_PE</td>\n",
       "      <td>BA_M5_PE.TextGrid</td>\n",
       "    </tr>\n",
       "    <tr>\n",
       "      <th>6</th>\n",
       "      <td>BA_M6_VL</td>\n",
       "      <td>BA_M6_VL.TextGrid</td>\n",
       "    </tr>\n",
       "    <tr>\n",
       "      <th>7</th>\n",
       "      <td>BA_M7_MG</td>\n",
       "      <td>BA_M7_MG.TextGrid</td>\n",
       "    </tr>\n",
       "  </tbody>\n",
       "</table>\n",
       "</div>"
      ],
      "text/plain": [
       "     relpath               fname\n",
       "0  BA_F10_BD  BA_F10_BD.TextGrid\n",
       "1   BA_F1_GL   BA_F1_GL.TextGrid\n",
       "2   BA_M2_LJ   BA_M2_LJ.TextGrid\n",
       "3   BA_M3_MG   BA_M3_MG.TextGrid\n",
       "4   BA_M4_MT   BA_M4_MT.TextGrid\n",
       "5   BA_M5_PE   BA_M5_PE.TextGrid\n",
       "6   BA_M6_VL   BA_M6_VL.TextGrid\n",
       "7   BA_M7_MG   BA_M7_MG.TextGrid"
      ]
     },
     "execution_count": 332,
     "metadata": {},
     "output_type": "execute_result"
    }
   ],
   "source": [
    "tgdir = Path('/Users/ambergalvano/Desktop/hard-drive_copy/Python/Python_things_2_16_23/BA_files_2_26').absolute()\n",
    "tgdirdf = dir2df(tgdir, fnpat=r'\\.TextGrid$')\n",
    "tgdirdf"
   ]
  },
  {
   "cell_type": "code",
   "execution_count": 335,
   "id": "005993e5-2025-4e49-8ade-8fb05bdb45f4",
   "metadata": {},
   "outputs": [],
   "source": [
    "def process_audspecs_svm(tgdir):\n",
    "    lab_test_list = []\n",
    "    specs_test_list = []\n",
    "\n",
    "    tgdirdf = dir2df(tgdir, fnpat=r'\\.TextGrid$')\n",
    "    \n",
    "    for row in tgdirdf.itertuples():\n",
    "        spkrfile = Path(tgdir, row.relpath, row.fname)\n",
    "        audspfile = tgdir / 'audspec_2_26' / f'{row.relpath}.audspec.npz'\n",
    "        \n",
    "        [phdf, wddf, proddf] = read_label(spkrfile.with_suffix('.TextGrid'), ftype='praat')\n",
    "        proddf['midpt'] = proddf.loc[:, ['t1', 't2']].mean(axis='columns')\n",
    "        \n",
    "        d = np.load(audspfile, mmap_mode='r')\n",
    "        \n",
    "        proddf['midpt_idx'] = [np.argmin(np.abs(d['spect_times'] - m)) for m in proddf['midpt']]\n",
    "        \n",
    "        labelled = proddf[proddf['label'] != ''].sort_values('label')\n",
    "        lab_test_list.append(labelled)\n",
    "        \n",
    "        specidx = np.ravel([np.arange(m - offset, m + offset + 1) for m in labelled['midpt_idx']])\n",
    "        spectimes = d['spect_times'][specidx]\n",
    "        \n",
    "        layer = 'zgram'   # Could be igram, lgram, ogram\n",
    "        specs = d[layer][specidx]\n",
    "        \n",
    "        longspecs = specs.reshape(len(labelled), -1)\n",
    "        specs_test_list.append(longspecs)\n",
    "        \n",
    "    X_test = np.vstack(specs_test_list)\n",
    "    \n",
    "    y_test = pd.concat(lab_test_list, ignore_index=True)\n",
    "    y_test = y_test['label']\n",
    "    \n",
    "    return X_test, y_test"
   ]
  },
  {
   "cell_type": "code",
   "execution_count": 336,
   "id": "df765771-aeef-4466-880a-9c4410b576cb",
   "metadata": {},
   "outputs": [],
   "source": [
    "X_test_BA, y_test_BA = process_audspecs_svm(tgdir)"
   ]
  },
  {
   "cell_type": "code",
   "execution_count": 340,
   "id": "d2617a55-44d3-422d-b287-9825d4e49223",
   "metadata": {},
   "outputs": [
    {
     "name": "stdout",
     "output_type": "stream",
     "text": [
      "(1091, 1806) (1091,)\n"
     ]
    }
   ],
   "source": [
    "print(X_test_BA.shape, y_test_BA.shape)"
   ]
  },
  {
   "cell_type": "code",
   "execution_count": 342,
   "id": "01d90eed-e699-4609-be96-b265e7bc1306",
   "metadata": {},
   "outputs": [
    {
     "name": "stdout",
     "output_type": "stream",
     "text": [
      "Prediction: s, Count: 310\n",
      "Prediction: t, Count: 3\n",
      "Prediction: th, Count: 778\n"
     ]
    }
   ],
   "source": [
    "pred_BA = test_half.predict(X_test_BA)\n",
    "unique_preds_BA, counts_BA = np.unique(pred_BA, return_counts=True)\n",
    "\n",
    "for label, count in zip(unique_preds_BA, counts_BA):\n",
    "    print(f\"Prediction: {label}, Count: {count}\")"
   ]
  },
  {
   "cell_type": "code",
   "execution_count": 343,
   "id": "9bbf9324-497b-45ce-834a-96dafa543000",
   "metadata": {},
   "outputs": [
    {
     "name": "stdout",
     "output_type": "stream",
     "text": [
      "Accuracy: 3.39%\n",
      "Confusion Matrix:\n",
      "[[  0   0   0   0   0   0   0   0   0   0   0   0   3   0   0]\n",
      " [  0   0   0   0   0   0   0   0   2   0   0   0   3   0   0]\n",
      " [  0   0   0   0   0   0   0   0   1   0   0   1  19   0   0]\n",
      " [  0   0   0   0   0   0   0   0  26   0   0   0  46   0   0]\n",
      " [  0   0   0   0   0   0   0   0   0   0   0   0   1   0   0]\n",
      " [  0   0   0   0   0   0   0   0   0   0   0   0   1   0   0]\n",
      " [  0   0   0   0   0   0   0   0 138   0   0   0 346   0   0]\n",
      " [  0   0   0   0   0   0   0   0  73   0   0   1 194   0   0]\n",
      " [  0   0   0   0   0   0   0   0   4   0   0   0   4   0   0]\n",
      " [  0   0   0   0   0   0   0   0  41   0   0   1  51   0   0]\n",
      " [  0   0   0   0   0   0   0   0   4   0   0   0  25   0   0]\n",
      " [  0   0   0   0   0   0   0   0  19   0   0   0  50   0   0]\n",
      " [  0   0   0   0   0   0   0   0   1   0   0   0  33   0   0]\n",
      " [  0   0   0   0   0   0   0   0   1   0   0   0   1   0   0]\n",
      " [  0   0   0   0   0   0   0   0   0   0   0   0   1   0   0]]\n"
     ]
    }
   ],
   "source": [
    "accuracy_BA = accuracy_score(y_test_BA, pred_BA)\n",
    "print(f\"Accuracy: {accuracy_BA * 100:.2f}%\")\n",
    "\n",
    "# Confusion matrix to evaluate performance by class\n",
    "print(\"Confusion Matrix:\")\n",
    "print(confusion_matrix(y_test_BA, pred_BA))"
   ]
  },
  {
   "cell_type": "markdown",
   "id": "102f8795-da20-41cf-a95d-4cc7a18bbce9",
   "metadata": {},
   "source": [
    "May need to train on half AN, half BA data and test on other half for best results."
   ]
  },
  {
   "cell_type": "code",
   "execution_count": null,
   "id": "31142beb-47a2-4514-95e4-e718b496e498",
   "metadata": {},
   "outputs": [],
   "source": []
  }
 ],
 "metadata": {
  "kernelspec": {
   "display_name": "Python 3 (ipykernel)",
   "language": "python",
   "name": "python3"
  },
  "language_info": {
   "codemirror_mode": {
    "name": "ipython",
    "version": 3
   },
   "file_extension": ".py",
   "mimetype": "text/x-python",
   "name": "python",
   "nbconvert_exporter": "python",
   "pygments_lexer": "ipython3",
   "version": "3.11.4"
  }
 },
 "nbformat": 4,
 "nbformat_minor": 5
}
